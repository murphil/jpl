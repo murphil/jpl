{
 "cells": [
  {
   "cell_type": "code",
   "execution_count": 1,
   "metadata": {},
   "outputs": [],
   "source": [
    "from IPython.lib import backgroundjobs as bg\n",
    "\n",
    "import sys\n",
    "import time\n",
    "\n",
    "def sleepfunc(interval=2, *a, **kw):\n",
    "    args = dict(interval=interval,\n",
    "                args=a,\n",
    "                kwargs=kw)\n",
    "    time.sleep(interval)\n",
    "    return args\n",
    "\n",
    "def diefunc(interval=2, *a, **kw):\n",
    "    time.sleep(interval)\n",
    "    raise Exception(\"Dead job with interval %s\" % interval)\n",
    "\n",
    "def printfunc(interval=1, reps=5):\n",
    "    for n in range(reps):\n",
    "        time.sleep(interval)\n",
    "        print('In the background... %i' % n)\n",
    "        sys.stdout.flush()\n",
    "    print('All done!')\n",
    "    sys.stdout.flush()"
   ]
  },
  {
   "cell_type": "code",
   "execution_count": 2,
   "metadata": {},
   "outputs": [
    {
     "data": {
      "text/plain": [
       "<BackgroundJob #3: printfunc(1,3)>"
      ]
     },
     "execution_count": 2,
     "metadata": {},
     "output_type": "execute_result"
    },
    {
     "name": "stdout",
     "output_type": "stream",
     "text": [
      "In the background... 0\n",
      "In the background... 1\n",
      "In the background... 2\n",
      "All done!\n"
     ]
    }
   ],
   "source": [
    "jobs = bg.BackgroundJobManager()\n",
    "\n",
    "# Start a few jobs, the first one will have ID # 0\n",
    "jobs.new(sleepfunc, 4)\n",
    "jobs.new(sleepfunc, kw={'reps':2})\n",
    "jobs.new('printfunc(1,3)')"
   ]
  },
  {
   "cell_type": "code",
   "execution_count": 3,
   "metadata": {},
   "outputs": [
    {
     "name": "stdout",
     "output_type": "stream",
     "text": [
      "Completed jobs:\n",
      "0 : <function sleepfunc at 0x7fc6fe71d9d8>\n",
      "2 : <function sleepfunc at 0x7fc6fe71d9d8>\n",
      "3 : printfunc(1,3)\n",
      "\n"
     ]
    }
   ],
   "source": [
    "jobs.status()\n"
   ]
  },
  {
   "cell_type": "code",
   "execution_count": 4,
   "metadata": {},
   "outputs": [
    {
     "data": {
      "text/plain": [
       "{'interval': 4, 'args': (), 'kwargs': {}}"
      ]
     },
     "execution_count": 4,
     "metadata": {},
     "output_type": "execute_result"
    }
   ],
   "source": [
    "jobs[0].result"
   ]
  },
  {
   "cell_type": "code",
   "execution_count": null,
   "metadata": {},
   "outputs": [],
   "source": []
  }
 ],
 "metadata": {
  "kernelspec": {
   "display_name": "Python 3",
   "language": "python",
   "name": "python3"
  },
  "language_info": {
   "codemirror_mode": {
    "name": "ipython",
    "version": 3
   },
   "file_extension": ".py",
   "mimetype": "text/x-python",
   "name": "python",
   "nbconvert_exporter": "python",
   "pygments_lexer": "ipython3",
   "version": "3.7.3"
  }
 },
 "nbformat": 4,
 "nbformat_minor": 2
}
