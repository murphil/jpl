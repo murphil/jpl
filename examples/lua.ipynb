{
 "cells": [
  {
   "cell_type": "code",
   "execution_count": 3,
   "metadata": {},
   "outputs": [
    {
     "data": {
      "text/plain": [
       "\u001b[1m\u001b[31mSignature:\u001b[0m file:write(***)\n",
       "\u001b[1m\u001b[31mDocumentation:\u001b[0m\n",
       "Writes the value of each of its arguments to `file`. The arguments must be\n",
       "strings or numbers.\n",
       "\n",
       "In case of success, this function returns `file`. Otherwise it returns **nil**\n",
       "plus a string describing the error.\n",
       "\u001b[1m\u001b[31mPath:\u001b[0m n/a"
      ]
     },
     "metadata": {},
     "output_type": "display_data"
    }
   ],
   "source": [
    "io.stdout.write?"
   ]
  },
  {
   "cell_type": "code",
   "execution_count": 11,
   "metadata": {},
   "outputs": [
    {
     "name": "stdout",
     "output_type": "stream",
     "text": [
      "1\n"
     ]
    }
   ],
   "source": [
    "a = { a=1 }\n",
    "\n",
    "print(a.a)"
   ]
  }
 ],
 "metadata": {
  "kernelspec": {
   "display_name": "Lua",
   "language": "lua",
   "name": "lua"
  },
  "language_info": {
   "file_extension": ".lua",
   "mimetype": "text/x-lua",
   "name": "lua",
   "version": "n/a"
  }
 },
 "nbformat": 4,
 "nbformat_minor": 2
}
