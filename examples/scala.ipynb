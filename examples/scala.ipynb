{
 "cells": [
  {
   "cell_type": "code",
   "execution_count": 1,
   "metadata": {},
   "outputs": [
    {
     "data": {
      "text/plain": [
       "\u001b[36mres0\u001b[39m: \u001b[32mcollection\u001b[39m.\u001b[32mimmutable\u001b[39m.\u001b[32mIndexedSeq\u001b[39m[\u001b[32mInt\u001b[39m] = \u001b[33mVector\u001b[39m(\n",
       "  \u001b[32m2\u001b[39m,\n",
       "  \u001b[32m3\u001b[39m,\n",
       "  \u001b[32m4\u001b[39m,\n",
       "  \u001b[32m5\u001b[39m,\n",
       "  \u001b[32m6\u001b[39m,\n",
       "  \u001b[32m7\u001b[39m,\n",
       "  \u001b[32m8\u001b[39m,\n",
       "  \u001b[32m9\u001b[39m,\n",
       "  \u001b[32m10\u001b[39m,\n",
       "  \u001b[32m11\u001b[39m\n",
       ")"
      ]
     },
     "execution_count": 1,
     "metadata": {},
     "output_type": "execute_result"
    }
   ],
   "source": [
    "1 to 10 map { _ + 1 }"
   ]
  },
  {
   "cell_type": "code",
   "execution_count": 3,
   "metadata": {},
   "outputs": [
    {
     "data": {
      "text/plain": [
       "\u001b[36mres2\u001b[39m: \u001b[32mcollection\u001b[39m.\u001b[32mimmutable\u001b[39m.\u001b[32mIndexedSeq\u001b[39m[\u001b[32mInt\u001b[39m] = \u001b[33mVector\u001b[39m(\n",
       "  \u001b[32m2\u001b[39m,\n",
       "  \u001b[32m3\u001b[39m,\n",
       "  \u001b[32m4\u001b[39m,\n",
       "  \u001b[32m5\u001b[39m,\n",
       "  \u001b[32m6\u001b[39m,\n",
       "  \u001b[32m7\u001b[39m,\n",
       "  \u001b[32m8\u001b[39m,\n",
       "  \u001b[32m9\u001b[39m,\n",
       "  \u001b[32m10\u001b[39m,\n",
       "  \u001b[32m11\u001b[39m\n",
       ")"
      ]
     },
     "execution_count": 3,
     "metadata": {},
     "output_type": "execute_result"
    }
   ],
   "source": [
    "for {x <- 1 to 10} yield x+1"
   ]
  },
  {
   "cell_type": "code",
   "execution_count": 4,
   "metadata": {},
   "outputs": [
    {
     "name": "stdout",
     "output_type": "stream",
     "text": [
      "Travis\n",
      "Dennis\n"
     ]
    },
    {
     "data": {
      "text/plain": [
       "defined \u001b[32mclass\u001b[39m \u001b[36mUser\u001b[39m\n",
       "\u001b[36muserBase\u001b[39m: \u001b[32mList\u001b[39m[\u001b[32mUser\u001b[39m] = \u001b[33mList\u001b[39m(\n",
       "  \u001b[33mUser\u001b[39m(\u001b[32m\"Travis\"\u001b[39m, \u001b[32m28\u001b[39m),\n",
       "  \u001b[33mUser\u001b[39m(\u001b[32m\"Kelly\"\u001b[39m, \u001b[32m33\u001b[39m),\n",
       "  \u001b[33mUser\u001b[39m(\u001b[32m\"Jennifer\"\u001b[39m, \u001b[32m44\u001b[39m),\n",
       "  \u001b[33mUser\u001b[39m(\u001b[32m\"Dennis\"\u001b[39m, \u001b[32m23\u001b[39m)\n",
       ")\n",
       "\u001b[36mtwentySomethings\u001b[39m: \u001b[32mList\u001b[39m[\u001b[32mString\u001b[39m] = \u001b[33mList\u001b[39m(\u001b[32m\"Travis\"\u001b[39m, \u001b[32m\"Dennis\"\u001b[39m)"
      ]
     },
     "execution_count": 4,
     "metadata": {},
     "output_type": "execute_result"
    }
   ],
   "source": [
    "case class User(name: String, age: Int)\n",
    "\n",
    "val userBase = List(User(\"Travis\", 28),\n",
    "  User(\"Kelly\", 33),\n",
    "  User(\"Jennifer\", 44),\n",
    "  User(\"Dennis\", 23))\n",
    "\n",
    "val twentySomethings = for (user <- userBase if (user.age >=20 && user.age < 30))\n",
    "  yield user.name  // i.e. add this to a list\n",
    "\n",
    "twentySomethings.foreach(name => println(name))  // prints Travis Dennis"
   ]
  },
  {
   "cell_type": "code",
   "execution_count": 5,
   "metadata": {},
   "outputs": [
    {
     "name": "stdout",
     "output_type": "stream",
     "text": [
      "(1, 9) \n",
      "(2, 8) \n",
      "(3, 7) \n",
      "(4, 6) \n",
      "(5, 5) \n"
     ]
    },
    {
     "data": {
      "text/plain": [
       "defined \u001b[32mfunction\u001b[39m \u001b[36mfoo\u001b[39m"
      ]
     },
     "execution_count": 5,
     "metadata": {},
     "output_type": "execute_result"
    }
   ],
   "source": [
    "def foo(n: Int, v: Int) =\n",
    "   for (i <- 0 until n;\n",
    "        j <- i until n if i + j == v)\n",
    "   yield (i, j)\n",
    "\n",
    "foo(10, 10) foreach {\n",
    "  case (i, j) =>\n",
    "    println(s\"($i, $j) \")  // prints (1, 9) (2, 8) (3, 7) (4, 6) (5, 5)\n",
    "}"
   ]
  },
  {
   "cell_type": "code",
   "execution_count": 7,
   "metadata": {},
   "outputs": [
    {
     "data": {
      "text/plain": [
       "defined \u001b[32mclass\u001b[39m \u001b[36mMonoid\u001b[39m\n",
       "defined \u001b[32mobject\u001b[39m \u001b[36mImplicitTest\u001b[39m"
      ]
     },
     "execution_count": 7,
     "metadata": {},
     "output_type": "execute_result"
    }
   ],
   "source": [
    "abstract class Monoid[A] {\n",
    "  def add(x: A, y: A): A\n",
    "  def unit: A\n",
    "}\n",
    "\n",
    "object ImplicitTest {\n",
    "  implicit val stringMonoid: Monoid[String] = new Monoid[String] {\n",
    "    def add(x: String, y: String): String = x concat y\n",
    "    def unit: String = \"\"\n",
    "  }\n",
    "  \n",
    "  implicit val intMonoid: Monoid[Int] = new Monoid[Int] {\n",
    "    def add(x: Int, y: Int): Int = x + y\n",
    "    def unit: Int = 0\n",
    "  }\n",
    "  \n",
    "  def sum[A](xs: List[A])(implicit m: Monoid[A]): A =\n",
    "    if (xs.isEmpty) m.unit\n",
    "    else m.add(xs.head, sum(xs.tail))\n",
    "    \n",
    "  def main(args: Array[String]): Unit = {\n",
    "    println(sum(List(1, 2, 3)))       // uses IntMonoid implicitly\n",
    "    println(sum(List(\"a\", \"b\", \"c\"))) // uses StringMonoid implicitly\n",
    "  }\n",
    "}"
   ]
  },
  {
   "cell_type": "code",
   "execution_count": 10,
   "metadata": {},
   "outputs": [
    {
     "name": "stdout",
     "output_type": "stream",
     "text": [
      "6\n",
      "abc\n"
     ]
    }
   ],
   "source": [
    "ImplicitTest main Array(\"\")"
   ]
  }
 ],
 "metadata": {
  "kernelspec": {
   "display_name": "Scala",
   "language": "scala",
   "name": "scala"
  },
  "language_info": {
   "codemirror_mode": "text/x-scala",
   "file_extension": ".scala",
   "mimetype": "text/x-scala",
   "name": "scala",
   "nbconvert_exporter": "script",
   "version": "2.12.8"
  }
 },
 "nbformat": 4,
 "nbformat_minor": 2
}
