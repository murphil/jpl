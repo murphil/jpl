{
 "cells": [
  {
   "cell_type": "code",
   "execution_count": 14,
   "metadata": {},
   "outputs": [],
   "source": [
    "(require pict)"
   ]
  },
  {
   "cell_type": "code",
   "execution_count": 3,
   "metadata": {},
   "outputs": [
    {
     "data": {
      "text/html": [
       "<code><img style=\"display: inline; vertical-align: baseline; padding: 0pt; margin: 0pt; border: 0pt\" src=\"data:image/png;base64,iVBORw0KGgoAAAANSUhEUgAAAAoAAAAKCAYAAACNMs+9AAAAcElEQVQYlY3QoRHCUBBF0ZOv\r\n",
       "ImIpJj4yJUSE0igkFhiwVIFMClgEKzKI8N/MNfuu2ScioMGEBe9kyVuTjoILHhhxSkY8sytw\r\n",
       "xh1tRNiDNrsZbhh+pZ084AobugOxw1p8E/6k4IX+wOnTqX+mbp7awT8daWL0QpmoRQAAAABJ\r\n",
       "RU5ErkJggg==\r\n",
       "\"/></code>"
      ],
      "text/plain": [
       "(pict '(prog #<procedure:...rivate/utils.rkt:284:8> 10) 10 10 10 0 '() #f #f)"
      ]
     },
     "execution_count": 3,
     "metadata": {},
     "output_type": "execute_result"
    }
   ],
   "source": [
    "(circle 10)"
   ]
  },
  {
   "cell_type": "code",
   "execution_count": 4,
   "metadata": {},
   "outputs": [
    {
     "data": {
      "text/html": [
       "<code><img style=\"display: inline; vertical-align: baseline; padding: 0pt; margin: 0pt; border: 0pt\" src=\"data:image/png;base64,iVBORw0KGgoAAAANSUhEUgAAAAoAAAAUCAYAAAC07qxWAAAANElEQVQoke3KoQ0AIBDF0Jaw\r\n",
       "/6rcBh+LOiyCJnUPYAG5vASSRJrUjA6cffjhS3ACpebiagMjvhHfDNt9oAAAAABJRU5ErkJg\r\n",
       "gg==\r\n",
       "\"/></code>"
      ],
      "text/plain": [
       "(pict '(prog #<procedure:...rivate/utils.rkt:284:8> 20) 10 20 20 0 '() #f #f)"
      ]
     },
     "execution_count": 4,
     "metadata": {},
     "output_type": "execute_result"
    }
   ],
   "source": [
    "(rectangle 10 20)"
   ]
  },
  {
   "cell_type": "code",
   "execution_count": 6,
   "metadata": {},
   "outputs": [
    {
     "data": {
      "text/html": [
       "<code><img style=\"display: inline; vertical-align: baseline; padding: 0pt; margin: 0pt; border: 0pt\" src=\"data:image/png;base64,iVBORw0KGgoAAAANSUhEUgAAABQAAAAUCAYAAACNiR0NAAAAt0lEQVQ4je2UOw7CQAxE30QU\r\n",
       "KVLQcJj0KXOEFHA0DrItIGg5RRoiOIApcDrYj0iDxEgjrbyjV9iWZWbkSNINWCdikwqAZmZK\r\n",
       "ZaosWoF+BKiXBklB0ugOXov27RN0D5yBHti4e+DifxVgZkbMgAHsgBNQvwnU/rctAR6BLhLq\r\n",
       "gEMJ8AE0kVAD3HOB85TztjtzIFegjWRaz2Rr8aEsuzb+EDAAARjdwWvzAckC/q/N91oVZCdJ\r\n",
       "qYZPTzAHKk8Lf3EoAAAAAElFTkSuQmCC\r\n",
       "\"/></code>"
      ],
      "text/plain": [
       "(pict '(picture 20 20 (put 0 5 #1=(prog #<procedure:...rivate/utils.rkt:284:8> 10)) (put 10 0 #2=(prog #<procedure:...rivate/utils.rkt:284:8> 20))) 20 20 15 0 (list (child (pict #1# 10 10 10 0 '() #f #f) 0 5 1 1 0 0) (child #0=(pict #2# 10 20 20 0 '() #f #f) 10 0 1 1 0 0)) #f #0#)"
      ]
     },
     "execution_count": 6,
     "metadata": {},
     "output_type": "execute_result"
    }
   ],
   "source": [
    "(hc-append (circle 10) (rectangle 10 20))\n"
   ]
  },
  {
   "cell_type": "code",
   "execution_count": 7,
   "metadata": {},
   "outputs": [
    {
     "data": {
      "text/html": [
       "<code><img style=\"display: inline; vertical-align: baseline; padding: 0pt; margin: 0pt; border: 0pt\" src=\"data:image/png;base64,iVBORw0KGgoAAAANSUhEUgAAAAoAAAAUCAYAAAC07qxWAAAANElEQVQoke3KoQ0AIBDF0Jaw\r\n",
       "/6rcBh+LOiyCJnUPYAG5vASSRJrUjA6cffjhS3ACpebiagMjvhHfDNt9oAAAAABJRU5ErkJg\r\n",
       "gg==\r\n",
       "\"/></code>"
      ],
      "text/plain": [
       "(pict '(prog #<procedure:...rivate/utils.rkt:284:8> 20) 10 20 20 0 '() #f #f)"
      ]
     },
     "execution_count": 7,
     "metadata": {},
     "output_type": "execute_result"
    }
   ],
   "source": [
    ";; LIMITATION: IRacket evaluates everything in a cell, but only returns the last result:\n",
    "(circle 10) ;; doesn't show up\n",
    "(rectangle 10 20)"
   ]
  },
  {
   "cell_type": "code",
   "execution_count": 8,
   "metadata": {},
   "outputs": [
    {
     "data": {
      "text/html": [
       "<code>(list <img style=\"display: inline; vertical-align: baseline; padding: 0pt; margin: 0pt; border: 0pt\" src=\"data:image/png;base64,iVBORw0KGgoAAAANSUhEUgAAAAoAAAAKCAYAAACNMs+9AAAAcElEQVQYlY3QoRHCUBBF0ZOv\r\n",
       "ImIpJj4yJUSE0igkFhiwVIFMClgEKzKI8N/MNfuu2ScioMGEBe9kyVuTjoILHhhxSkY8sytw\r\n",
       "xh1tRNiDNrsZbhh+pZ084AobugOxw1p8E/6k4IX+wOnTqX+mbp7awT8daWL0QpmoRQAAAABJ\r\n",
       "RU5ErkJggg==\r\n",
       "\"/> <img style=\"display: inline; vertical-align: baseline; padding: 0pt; margin: 0pt; border: 0pt\" src=\"data:image/png;base64,iVBORw0KGgoAAAANSUhEUgAAAAoAAAAUCAYAAAC07qxWAAAANElEQVQoke3KoQ0AIBDF0Jaw\r\n",
       "/6rcBh+LOiyCJnUPYAG5vASSRJrUjA6cffjhS3ACpebiagMjvhHfDNt9oAAAAABJRU5ErkJg\r\n",
       "gg==\r\n",
       "\"/>)</code>"
      ],
      "text/plain": [
       "(list (pict '(prog #<procedure:...rivate/utils.rkt:284:8> 10) 10 10 10 0 '() #f #f) (pict '(prog #<procedure:...rivate/utils.rkt:284:8> 20) 10 20 20 0 '() #f #f))"
      ]
     },
     "execution_count": 8,
     "metadata": {},
     "output_type": "execute_result"
    }
   ],
   "source": [
    "(list (circle 10) (rectangle 10 20))\n"
   ]
  },
  {
   "cell_type": "code",
   "execution_count": 9,
   "metadata": {},
   "outputs": [
    {
     "data": {
      "text/html": [
       "<code><img style=\"display: inline; vertical-align: baseline; padding: 0pt; margin: 0pt; border: 0pt\" src=\"data:image/png;base64,iVBORw0KGgoAAAANSUhEUgAAABQAAAAUCAYAAACNiR0NAAAAIklEQVQ4jWNkYGD4z0BFwERN\r\n",
       "w0YNHDVw1MBRA0cNHEoGAgDO7gEnhnkkVwAAAABJRU5ErkJggg==\r\n",
       "\"/></code>"
      ],
      "text/plain": [
       "(pict '(prog #<procedure:...rivate/utils.rkt:284:8> 20) 20 20 20 0 '() #f #f)"
      ]
     },
     "execution_count": 9,
     "metadata": {},
     "output_type": "execute_result"
    }
   ],
   "source": [
    "(define (square n)\n",
    "  ; A semi-colon starts a line comment.\n",
    "  ; The expression below is the function body.\n",
    "  (filled-rectangle n n))\n",
    "\n",
    "(square 20)"
   ]
  },
  {
   "cell_type": "code",
   "execution_count": 10,
   "metadata": {},
   "outputs": [
    {
     "data": {
      "text/html": [
       "<code><img style=\"display: inline; vertical-align: baseline; padding: 0pt; margin: 0pt; border: 0pt\" src=\"data:image/png;base64,iVBORw0KGgoAAAANSUhEUgAAABQAAAAUCAYAAACNiR0NAAAAkElEQVQ4je3TIQ7CUAwA0Lev\r\n",
       "JmY5zPzkjoCAo3GQWUbAcgokHOAj+EsWxPhLviJrUtM+0aStGCNU2GPAI+WQalWMUa6DgBOu\r\n",
       "6LFL2eOWemGFc8QF9TTJbKI69Q4rnBHdN5rhDucVzgvNAmzwzHXBJ6K8+OkC7mgXTJtMriu/\r\n",
       "lLJnU/qwp6UUje1Ttk/5u095A4iad9L1dTzjAAAAAElFTkSuQmCC\r\n",
       "\"/></code>"
      ],
      "text/plain": [
       "(pict '(picture 20 20 (put 0 10 #3=(picture 20 10 (put 0 0 #1=(prog #<procedure:...rivate/utils.rkt:284:8> 10)) (put 10 0 #1#))) (put 0 0 #3#)) 20 20 10 0 (list (child #2=(pict #3# 20 10 10 0 (list (child #0=(pict #1# 10 10 10 0 '() #f #f) 0 0 1 1 0 0) (child #0# 10 0 1 1 0 0)) #f #0#) 0 10 1 1 0 0) (child #2# 0 0 1 1 0 0)) #f (list #2# #0#))"
      ]
     },
     "execution_count": 10,
     "metadata": {},
     "output_type": "execute_result"
    }
   ],
   "source": [
    "(define (four p)\n",
    "  (define two-p (hc-append p p))\n",
    "  (vc-append two-p two-p))\n",
    "\n",
    "(four (circle 10))"
   ]
  },
  {
   "cell_type": "code",
   "execution_count": 11,
   "metadata": {},
   "outputs": [
    {
     "data": {
      "text/html": [
       "<code><img style=\"display: inline; vertical-align: baseline; padding: 0pt; margin: 0pt; border: 0pt\" src=\"data:image/png;base64,iVBORw0KGgoAAAANSUhEUgAAABQAAAAUCAYAAACNiR0NAAAANElEQVQ4jWP8z8Dwn4EIwEiM\r\n",
       "IgYGBiYi1RENRg0cNXAwGMjIQGROIUoRw1Dw8qiBowaSAQBAOAQklfK8SQAAAABJRU5ErkJg\r\n",
       "gg==\r\n",
       "\"/></code>"
      ],
      "text/plain": [
       "(pict '(picture 20 20 (put 0 10 #7=(picture 20 10 (put 0 0 #4=(color \"red\" #0=(prog #<procedure:...rivate/utils.rkt:284:8> 10))) (put 10 0 #3=(color \"black\" #1=(prog #<procedure:...rivate/utils.rkt:284:8> 10))))) (put 0 0 #8=(picture 20 10 (put 0 0 #3#) (put 10 0 #4#)))) 20 20 10 0 (list (child (pict #7# 20 10 10 0 (list (child #2=(pict #4# 10 10 10 0 (list (child (pict #0# 10 10 10 0 '() #f #f) 0 0 1 1 0 0)) #f #f) 0 0 1 1 0 0) (child #5=(pict #3# 10 10 10 0 (list (child (pict #1# 10 10 10 0 '() #f #f) 0 0 1 1 0 0)) #f #f) 10 0 1 1 0 0)) #f #5#) 0 10 1 1 0 0) (child #6=(pict #8# 20 10 10 0 (list (child #5# 0 0 1 1 0 0) (child #2# 10 0 1 1 0 0)) #f #2#) 0 0 1 1 0 0)) #f (list #6# #2#))"
      ]
     },
     "execution_count": 11,
     "metadata": {},
     "output_type": "execute_result"
    }
   ],
   "source": [
    "(define (checker p1 p2)\n",
    "  (let ([p12 (hc-append p1 p2)]\n",
    "        [p21 (hc-append p2 p1)])\n",
    "    (vc-append p12 p21)))\n",
    "\n",
    "(checker (colorize (square 10) \"red\")\n",
    "         (colorize (square 10) \"black\"))"
   ]
  },
  {
   "cell_type": "code",
   "execution_count": 12,
   "metadata": {},
   "outputs": [
    {
     "data": {
      "text/html": [
       "<code><img style=\"display: inline; vertical-align: baseline; padding: 0pt; margin: 0pt; border: 0pt\" src=\"data:image/png;base64,iVBORw0KGgoAAAANSUhEUgAAAFAAAABQCAYAAACOEfKtAAAA5klEQVR4nO3ZMQrDQAwAQV3w\r\n",
       "/7/svCAg2CKJmakPFYsKG5175p6Fs3k0y2EPmvdavuMDASMBIwEjASMBIwEjASMBozPLj/Nf\r\n",
       "/yP41jwbGAkYCRgJGAkYCRgJGAkYCRhdT/kjcBP5UwJGAkYCRgJGAkYCRgJGAkZuInGeDYwE\r\n",
       "jASMBIwEjASMBIwEjASM3ETiPBsYCRgJGAkYCRgJGAkYCRgJGLmJxHk2MBIwEjASMBIwEjAS\r\n",
       "MBIwEjByE4nzbGAkYCRgJGAkYCRgJGAkYCRg5CYS59nASMBIwEjASMBIwEjASMBIwOgNhFEl\r\n",
       "mcy6CRYAAAAASUVORK5CYII=\r\n",
       "\"/></code>"
      ],
      "text/plain": [
       "(pict '(picture 80 80 (put 0 40 #20=(picture 80 40 (put 0 0 #17=(picture 40 40 (put 0 20 #14=(picture 40 20 (put 0 0 #11=(picture 20 20 (put 0 10 #7=(picture 20 10 (put 0 0 #4=(color \"red\" #0=(prog #<procedure:...rivate/utils.rkt:284:8> 10))) (put 10 0 #3=(color \"black\" #0#)))) (put 0 0 #8=(picture 20 10 (put 0 0 #3#) (put 10 0 #4#))))) (put 20 0 #11#))) (put 0 0 #14#))) (put 40 0 #17#))) (put 0 0 #20#)) 80 80 10 0 (list (child #19=(pict #20# 80 40 10 0 (list (child #16=(pict #17# 40 40 10 0 (list (child #13=(pict #14# 40 20 10 0 (list (child #10=(pict #11# 20 20 10 0 (list (child (pict #7# 20 10 10 0 (list (child #2=(pict #4# 10 10 10 0 (list (child #1=(pict #0# 10 10 10 0 '() #f #f) 0 0 1 1 0 0)) #f #f) 0 0 1 1 0 0) (child #5=(pict #3# 10 10 10 0 (list (child #1# 0 0 1 1 0 0)) #f #f) 10 0 1 1 0 0)) #f #5#) 0 10 1 1 0 0) (child #6=(pict #8# 20 10 10 0 (list (child #5# 0 0 1 1 0 0) (child #2# 10 0 1 1 0 0)) #f #2#) 0 0 1 1 0 0)) #f #9=(list #6# #2#)) 0 0 1 1 0 0) (child #10# 20 0 1 1 0 0)) #f #12=(list #10# #9#)) 0 20 1 1 0 0) (child #13# 0 0 1 1 0 0)) #f #15=(list #13# #12#)) 0 0 1 1 0 0) (child #16# 40 0 1 1 0 0)) #f #18=(list #16# #15#)) 0 40 1 1 0 0) (child #19# 0 0 1 1 0 0)) #f (list #19# #18#))"
      ]
     },
     "execution_count": 12,
     "metadata": {},
     "output_type": "execute_result"
    }
   ],
   "source": [
    "(define (checkerboard p)\n",
    "  (let* ([rp (colorize p \"red\")]\n",
    "         [bp (colorize p \"black\")]\n",
    "         [c (checker rp bp)]\n",
    "         [c4 (four c)])\n",
    "    (four c4)))\n",
    "\n",
    "(checkerboard (square 10))"
   ]
  }
 ],
 "metadata": {
  "kernelspec": {
   "display_name": "Racket",
   "language": "racket",
   "name": "racket"
  },
  "language_info": {
   "codemirror_mode": "scheme",
   "file_extension": ".rkt",
   "mimetype": "text/x-racket",
   "name": "Racket",
   "pygments_lexer": "racket",
   "version": "7.3"
  }
 },
 "nbformat": 4,
 "nbformat_minor": 2
}
